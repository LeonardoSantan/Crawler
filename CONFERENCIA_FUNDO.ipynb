{
  "cells": [
    {
      "cell_type": "code",
      "execution_count": 3,
      "metadata": {
        "id": "9-NrI4SQyDzH"
      },
      "outputs": [
        {
          "ename": "ModuleNotFoundError",
          "evalue": "No module named 'bs4'",
          "output_type": "error",
          "traceback": [
            "\u001b[1;31m---------------------------------------------------------------------------\u001b[0m",
            "\u001b[1;31mModuleNotFoundError\u001b[0m                       Traceback (most recent call last)",
            "Cell \u001b[1;32mIn[3], line 1\u001b[0m\n\u001b[1;32m----> 1\u001b[0m \u001b[38;5;28;01mfrom\u001b[39;00m \u001b[38;5;21;01mbs4\u001b[39;00m \u001b[38;5;28;01mimport\u001b[39;00m BeautifulSoup\n\u001b[0;32m      2\u001b[0m \u001b[38;5;28;01mimport\u001b[39;00m \u001b[38;5;21;01mpandas\u001b[39;00m \u001b[38;5;28;01mas\u001b[39;00m \u001b[38;5;21;01mpd\u001b[39;00m\n\u001b[0;32m      3\u001b[0m \u001b[38;5;28;01mimport\u001b[39;00m \u001b[38;5;21;01mlxml\u001b[39;00m\n",
            "\u001b[1;31mModuleNotFoundError\u001b[0m: No module named 'bs4'"
          ]
        }
      ],
      "source": [
        "\n",
        "from bs4 import BeautifulSoup\n",
        "import pandas as pd\n",
        "import lxml\n",
        "import requests\n",
        "import datetime\n",
        "import time\n",
        "import pytz\n",
        "from concurrent.futures import ThreadPoolExecutor\n",
        "import numpy as np"
      ]
    },
    {
      "cell_type": "code",
      "execution_count": null,
      "metadata": {
        "id": "4YbX6G8lyEfv"
      },
      "outputs": [],
      "source": [
        "# Inicialização da variavel para que na consulta request não gere problemas\n",
        "headers = {\n",
        "    \"User-Agent\": \"Mozilla/5.0 (Windows NT 10.0; Win64; x64) AppleWebKit/537.36 (KHTML, like Gecko) Chrome/58.0.3029.110 Safari/537.3\"\n",
        "}"
      ]
    },
    {
      "cell_type": "code",
      "execution_count": null,
      "metadata": {
        "id": "Tiw7feGWfpJc"
      },
      "outputs": [],
      "source": [
        "# inicialização das listas que receberão os valores\n",
        "dividendos_valores = []\n",
        "nomes_fii = []\n",
        "valores_fii = []\n",
        "data_hora_atual = []\n",
        "links = []"
      ]
    },
    {
      "cell_type": "code",
      "execution_count": null,
      "metadata": {
        "id": "Ea2CocqM8UAv"
      },
      "outputs": [],
      "source": [
        "# Leitura da lista de fundos que serão consultados\n",
        "df2 = pd.read_csv(\n",
        "    \"fundosListados.csv\",\n",
        "    engine=\"python\",\n",
        "    encoding=\"latin-1\",\n",
        "    header=None,\n",
        "    skiprows=1,\n",
        "    skip_blank_lines=True,\n",
        ")"
      ]
    },
    {
      "cell_type": "code",
      "execution_count": null,
      "metadata": {
        "id": "Cg4bIAaugdaF"
      },
      "outputs": [],
      "source": [
        "# Definição do nome de pesquisa e do link de pesquisa dos fundos\n",
        "nome = df2.iloc[0 : len(df2), 3].values\n",
        "link = \"https://www.fundsexplorer.com.br/funds\""
      ]
    },
    {
      "cell_type": "markdown",
      "metadata": {
        "id": "mOrmD1PVtuL1"
      },
      "source": [
        "Código em questão faz consulta sem divisão de trabalho.\n",
        "  É funcional porém tende a demorar mais para consulta completa"
      ]
    },
    {
      "cell_type": "code",
      "execution_count": null,
      "metadata": {
        "id": "lceU1or2jIP8"
      },
      "outputs": [],
      "source": [
        "\n",
        "# def consulta():\n",
        "#   start = time.time()\n",
        "#   for i in range (len(df2)):\n",
        "#     link_name = f'{link}/{nome[i]}11'\n",
        "#     # print(f'Start - {i} - {nome[i]}')\n",
        "#     dividendos = requests.get(link_name, headers=headers).text\n",
        "\n",
        "#     teste_dividendos = BeautifulSoup(dividendos, 'lxml')\n",
        "#     teste_if = teste_dividendos.find(\"div\",class_= \"headerTicker__content__price\").find('p')\n",
        "#     if teste_if:\n",
        "#       value_fii = teste_if.text\n",
        "#     teste2 = teste_dividendos.find('div', class_=\"indicators historic\").find('b')\n",
        "#     if teste2:\n",
        "#         div = teste2.text\n",
        "#     else:\n",
        "#       div = ''\n",
        "#     dividendos_valores.append(div)\n",
        "#     nomes_fii.append(nome[i])\n",
        "#     valores_fii.append(value_fii)\n",
        "#     links.append(link_name)\n",
        "#     # print(f'OK - {i} - {nome[i]}')\n",
        "#   df = pd.DataFrame(data={'Nome Fundo':nomes_fii,'Valor Fundo':valores_fii,'Valor dividendos':dividendos_valores,'Data':data_atual,'Links':links})\n",
        "#   df.to_csv('drive/MyDrive/Fundos Imobiliarios/Fundos_imobiliarios_novo.csv',mode='a', header=False)\n",
        "#   end = time.time()\n",
        "#   print(end - start)"
      ]
    },
    {
      "cell_type": "code",
      "execution_count": null,
      "metadata": {
        "id": "Oi_CKIkJykP_"
      },
      "outputs": [],
      "source": [
        "# Consulta individual foi gerada para acelerar procedimento\n",
        "# Basicamente uma função que recebe o indice do nome e retorna a consulta indidual deles\n",
        "def consulta_individual(i):\n",
        "    link_name = f\"{link}/{nome[i]}11\"\n",
        "    dividendos = requests.get(link_name, headers=headers).text\n",
        "    teste_dividendos = BeautifulSoup(dividendos, \"lxml\")\n",
        "    if teste_dividendos.find(\"div\", class_=\"headerTicker__content__price\").find(\"p\").text and teste_dividendos.find(\"div\", class_=\"headerTicker__content__price\").find(\"p\").text == 'R$ 0,00':\n",
        "      return\n",
        "    else:\n",
        "      consulta_teste = teste_dividendos.find(\"div\", class_=\"headerTicker__content__price\").find(\"p\")\n",
        "      # print(consulta_teste)\n",
        "    if consulta_teste != 'N/A':\n",
        "        value_fii = consulta_teste.text\n",
        "    else:\n",
        "      return nome[i], \"0.00\", \"0.00\", link_name\n",
        "      # print(value_fii)\n",
        "    if teste_dividendos.find(\"div\", class_=\"indicators historic\").find(\"b\").text == 'N/A' or teste_dividendos.find(\"div\", class_=\"indicators historic\").find(\"b\").text == 'NaN':\n",
        "        div = \"0.00\"\n",
        "    else:\n",
        "        div = teste_dividendos.find(\"div\", class_=\"indicators historic\").find(\"b\").text\n",
        "        # print(teste_dividendos.find(\"div\", class_=\"indicators historic\").find(\"b\").text)\n",
        "\n",
        "    # print(f\"OK - {nome[i]}\")\n",
        "    # print(nome[i], value_fii, div, link_name)\n",
        "    return nome[i], value_fii, div, link_name\n"
      ]
    },
    {
      "cell_type": "code",
      "execution_count": null,
      "metadata": {
        "id": "ozQoMFWNymzW"
      },
      "outputs": [],
      "source": [
        "# Gerencia processo de consulta e divide em subconsultas através do ThreadPoolExecutor\n",
        "# Aceleração do processo irá depender de quantos núcleos processador disponibiliza para processo\n",
        "def consulta_geral():\n",
        "  start = time.time()\n",
        "  # Indicar entre 1 - 8 no parametro max_workers\n",
        "  with ThreadPoolExecutor(max_workers=8) as executor:\n",
        "\n",
        "    resultados = executor.map(consulta_individual, range(len(df2)))\n",
        "  for resultado in resultados:\n",
        "    if(resultado):\n",
        "      nomes_fii.append(resultado[0])\n",
        "      valores_fii.append(resultado[1])\n",
        "      dividendos_valores.append(resultado[2])\n",
        "      links.append(resultado[3])\n",
        "    else:\n",
        "      continue\n",
        "\n",
        "  data_columns = [\"Nome_Fundo\", \"Valor_Fundo\", \"Valor_dividendos\", \"Data\", \"Links\"]\n",
        "  data_teste = datetime.datetime.now(pytz.timezone(\"America/Sao_Paulo\"))\n",
        "  data_atual = data_teste.strftime(\"%d-%m-%y  %H:%M:%S\")\n",
        "  df = pd.DataFrame(data={'Nome_Fundo':nomes_fii,'Valor_Fundo':valores_fii,'Valor_dividendos':dividendos_valores,'Data':data_atual,'Links':links}, columns = data_columns)\n",
        "\n",
        "\n",
        "  df['Valor_Fundo'] = df['Valor_Fundo'].str.replace(r'[R$ ]','',regex=True)\n",
        "  df['Valor_Fundo'] = df['Valor_Fundo'].apply(lambda x: float(x.replace(\".\",\"\").replace(\",\",\".\")))\n",
        "  df['Valor_dividendos'] = df['Valor_dividendos'].apply(lambda x: float(x.replace(\".\",\"\").replace(\",\",\".\")))\n",
        "  df = df.astype({\n",
        "    'Nome_Fundo': str,\n",
        "    'Valor_Fundo': np.float64,\n",
        "    'Valor_dividendos': np.float64,\n",
        "    'Data': 'datetime64[ns]',\n",
        "    'Links': str,\n",
        "})\n",
        "  df['Porcentagem'] =  (df['Valor_dividendos'] / df['Valor_Fundo']) * 100\n",
        "  df.to_csv(\n",
        "    \"Fundos_imobiliarios_novo.csv\",\n",
        "    mode=\"a\",\n",
        "    header=None,\n",
        "    index= False\n",
        "  )\n",
        "  end = time.time()\n",
        "  print(end - start)"
      ]
    },
    {
      "cell_type": "code",
      "execution_count": null,
      "metadata": {
        "colab": {
          "base_uri": "https://localhost:8080/"
        },
        "id": "kKThSpcPIyhf",
        "outputId": "a151ce12-8ee3-4931-8382-e4e66a93d62e"
      },
      "outputs": [
        {
          "name": "stdout",
          "output_type": "stream",
          "text": [
            "58.28834867477417\n"
          ]
        }
      ],
      "source": [
        "# Chamada da consulta para teste\n",
        "consulta_geral()"
      ]
    },
    {
      "cell_type": "code",
      "execution_count": null,
      "metadata": {
        "id": "6Ea3ZZ1xraDA"
      },
      "outputs": [],
      "source": [
        "# Função para consulta n quantidade de tempo\n",
        "# if __name__ == \"__main__\":\n",
        "#     while True:\n",
        "#         consulta_geral()\n",
        "#         time_wait = 10\n",
        "#         print(f\"Aguarde {time_wait} minutos\")\n",
        "#         time.sleep(time_wait * 60)"
      ]
    },
    {
      "cell_type": "code",
      "execution_count": null,
      "metadata": {
        "id": "VGuTmCrQw1N7"
      },
      "outputs": [],
      "source": [
        "\n",
        "dfConsulta = pd.read_csv(\n",
        "    \"Fundos_imobiliarios_novo.csv\",\n",
        "    encoding=\"latin-1\",\n",
        "    header = None\n",
        ")\n",
        "dfConsulta.rename(columns={\n",
        "    0:'Nome_Fundo',\n",
        "    1:'Valor_Fundo',\n",
        "    2:'Valor_dividendos',\n",
        "    3:'Data',\n",
        "    4:'Links',\n",
        "    5:'Porcentagem',\n",
        "},inplace=True)\n",
        "dfConsulta = dfConsulta.astype({\n",
        "    'Nome_Fundo': str,\n",
        "    'Valor_Fundo': np.float64,\n",
        "    'Valor_dividendos': np.float64,\n",
        "    'Porcentagem': np.float64,\n",
        "    'Data': 'datetime64[ns]',\n",
        "    'Links': str,\n",
        "})\n",
        "\n"
      ]
    },
    {
      "cell_type": "code",
      "execution_count": null,
      "metadata": {
        "id": "s8gBd1Tuw8-z"
      },
      "outputs": [],
      "source": []
    }
  ],
  "metadata": {
    "colab": {
      "provenance": []
    },
    "kernelspec": {
      "display_name": "Python 3",
      "name": "python3"
    },
    "language_info": {
      "codemirror_mode": {
        "name": "ipython",
        "version": 3
      },
      "file_extension": ".py",
      "mimetype": "text/x-python",
      "name": "python",
      "nbconvert_exporter": "python",
      "pygments_lexer": "ipython3",
      "version": "3.12.3"
    }
  },
  "nbformat": 4,
  "nbformat_minor": 0
}
